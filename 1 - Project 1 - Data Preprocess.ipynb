{
 "cells": [
  {
   "cell_type": "markdown",
   "metadata": {},
   "source": [
    "## 1.0 Data Preprocessing"
   ]
  },
  {
   "cell_type": "markdown",
   "metadata": {},
   "source": [
    "This notebook is the first stage of the project, and it is used to merge the datasets before data cleansing. We have also performed some feature selection in this notebook, as some features are not related to our objectives and features with large portion of missing data will also be removed to reduce biases. Script is a python script to load the data from Excel files. It contains a class object \"ImportData\", which is designed to make code tidier and cleaner."
   ]
  },
  {
   "cell_type": "code",
   "execution_count": 1,
   "metadata": {},
   "outputs": [],
   "source": [
    "from script import ImportData"
   ]
  },
  {
   "cell_type": "code",
   "execution_count": 2,
   "metadata": {},
   "outputs": [],
   "source": [
    "df = ImportData()"
   ]
  },
  {
   "cell_type": "code",
   "execution_count": 3,
   "metadata": {},
   "outputs": [
    {
     "data": {
      "text/plain": [
       "Index(['REPORT_ID', 'UND_UNIT_NUMBER', 'CASUALTY_NUMBER', 'Casualty Type',\n",
       "       'Sex_x', 'AGE', 'Position In Veh', 'Thrown Out', 'Injury Extent',\n",
       "       'Seat Belt', 'Helmet', 'Hospital', 'Unit No', 'No Of Cas',\n",
       "       'Veh Reg State', 'Unit Type', 'Veh Year', 'Direction Of Travel',\n",
       "       'Sex_y', 'Age', 'Lic State', 'Licence Class', 'Licence Type', 'Towing',\n",
       "       'Unit Movement', 'Number Occupants', 'Postcode_x', 'Rollover', 'Fire',\n",
       "       'Stats Area', 'Suburb', 'Postcode_y', 'LGA Name', 'Total Units',\n",
       "       'Total Cas', 'Total Fats', 'Total SI', 'Total MI', 'Year', 'Month',\n",
       "       'Day', 'Time', 'Area Speed', 'Position Type', 'Horizontal Align',\n",
       "       'Vertical Align', 'Other Feat', 'Road Surface', 'Moisture Cond',\n",
       "       'Weather Cond', 'DayNight', 'Crash Type', 'Unit Resp', 'Entity Code',\n",
       "       'CSEF Severity', 'Traffic Ctrls', 'DUI Involved', 'Drugs Involved',\n",
       "       'ACCLOC_X', 'ACCLOC_Y', 'UNIQUE_LOC'],\n",
       "      dtype='object')"
      ]
     },
     "execution_count": 3,
     "metadata": {},
     "output_type": "execute_result"
    }
   ],
   "source": [
    "df.get_columns()"
   ]
  },
  {
   "cell_type": "code",
   "execution_count": 4,
   "metadata": {},
   "outputs": [
    {
     "name": "stdout",
     "output_type": "stream",
     "text": [
      "The data contains 12361 rows and 61 columns.\n"
     ]
    }
   ],
   "source": [
    "df.get_data_shape()"
   ]
  },
  {
   "cell_type": "markdown",
   "metadata": {},
   "source": [
    "## 1.1 Data selection"
   ]
  },
  {
   "cell_type": "markdown",
   "metadata": {},
   "source": [
    "### Null report\n",
    "        The report shows the percentage of missing data for features containing null values"
   ]
  },
  {
   "cell_type": "code",
   "execution_count": 5,
   "metadata": {},
   "outputs": [
    {
     "data": {
      "text/html": [
       "<div>\n",
       "<style scoped>\n",
       "    .dataframe tbody tr th:only-of-type {\n",
       "        vertical-align: middle;\n",
       "    }\n",
       "\n",
       "    .dataframe tbody tr th {\n",
       "        vertical-align: top;\n",
       "    }\n",
       "\n",
       "    .dataframe thead th {\n",
       "        text-align: right;\n",
       "    }\n",
       "</style>\n",
       "<table border=\"1\" class=\"dataframe\">\n",
       "  <thead>\n",
       "    <tr style=\"text-align: right;\">\n",
       "      <th></th>\n",
       "      <th>Null Count</th>\n",
       "      <th>% of null count</th>\n",
       "    </tr>\n",
       "  </thead>\n",
       "  <tbody>\n",
       "    <tr>\n",
       "      <th>Position In Veh</th>\n",
       "      <td>1585</td>\n",
       "      <td>12.822587</td>\n",
       "    </tr>\n",
       "    <tr>\n",
       "      <th>Thrown Out</th>\n",
       "      <td>681</td>\n",
       "      <td>5.509263</td>\n",
       "    </tr>\n",
       "    <tr>\n",
       "      <th>Seat Belt</th>\n",
       "      <td>2620</td>\n",
       "      <td>21.195696</td>\n",
       "    </tr>\n",
       "    <tr>\n",
       "      <th>Helmet</th>\n",
       "      <td>10331</td>\n",
       "      <td>83.577380</td>\n",
       "    </tr>\n",
       "    <tr>\n",
       "      <th>Hospital</th>\n",
       "      <td>3063</td>\n",
       "      <td>24.779549</td>\n",
       "    </tr>\n",
       "    <tr>\n",
       "      <th>Veh Reg State</th>\n",
       "      <td>1586</td>\n",
       "      <td>12.830677</td>\n",
       "    </tr>\n",
       "    <tr>\n",
       "      <th>Veh Year</th>\n",
       "      <td>1587</td>\n",
       "      <td>12.838767</td>\n",
       "    </tr>\n",
       "    <tr>\n",
       "      <th>Lic State</th>\n",
       "      <td>1585</td>\n",
       "      <td>12.822587</td>\n",
       "    </tr>\n",
       "    <tr>\n",
       "      <th>Licence Class</th>\n",
       "      <td>1587</td>\n",
       "      <td>12.838767</td>\n",
       "    </tr>\n",
       "    <tr>\n",
       "      <th>Licence Type</th>\n",
       "      <td>1587</td>\n",
       "      <td>12.838767</td>\n",
       "    </tr>\n",
       "    <tr>\n",
       "      <th>Towing</th>\n",
       "      <td>1597</td>\n",
       "      <td>12.919667</td>\n",
       "    </tr>\n",
       "    <tr>\n",
       "      <th>Number Occupants</th>\n",
       "      <td>601</td>\n",
       "      <td>4.862066</td>\n",
       "    </tr>\n",
       "    <tr>\n",
       "      <th>Rollover</th>\n",
       "      <td>11116</td>\n",
       "      <td>89.927999</td>\n",
       "    </tr>\n",
       "    <tr>\n",
       "      <th>Fire</th>\n",
       "      <td>12325</td>\n",
       "      <td>99.708761</td>\n",
       "    </tr>\n",
       "    <tr>\n",
       "      <th>LGA Name</th>\n",
       "      <td>174</td>\n",
       "      <td>1.407653</td>\n",
       "    </tr>\n",
       "    <tr>\n",
       "      <th>DUI Involved</th>\n",
       "      <td>11818</td>\n",
       "      <td>95.607152</td>\n",
       "    </tr>\n",
       "    <tr>\n",
       "      <th>Drugs Involved</th>\n",
       "      <td>11906</td>\n",
       "      <td>96.319068</td>\n",
       "    </tr>\n",
       "    <tr>\n",
       "      <th>ACCLOC_X</th>\n",
       "      <td>2</td>\n",
       "      <td>0.016180</td>\n",
       "    </tr>\n",
       "    <tr>\n",
       "      <th>ACCLOC_Y</th>\n",
       "      <td>2</td>\n",
       "      <td>0.016180</td>\n",
       "    </tr>\n",
       "    <tr>\n",
       "      <th>UNIQUE_LOC</th>\n",
       "      <td>2</td>\n",
       "      <td>0.016180</td>\n",
       "    </tr>\n",
       "  </tbody>\n",
       "</table>\n",
       "</div>"
      ],
      "text/plain": [
       "                  Null Count  % of null count\n",
       "Position In Veh         1585        12.822587\n",
       "Thrown Out               681         5.509263\n",
       "Seat Belt               2620        21.195696\n",
       "Helmet                 10331        83.577380\n",
       "Hospital                3063        24.779549\n",
       "Veh Reg State           1586        12.830677\n",
       "Veh Year                1587        12.838767\n",
       "Lic State               1585        12.822587\n",
       "Licence Class           1587        12.838767\n",
       "Licence Type            1587        12.838767\n",
       "Towing                  1597        12.919667\n",
       "Number Occupants         601         4.862066\n",
       "Rollover               11116        89.927999\n",
       "Fire                   12325        99.708761\n",
       "LGA Name                 174         1.407653\n",
       "DUI Involved           11818        95.607152\n",
       "Drugs Involved         11906        96.319068\n",
       "ACCLOC_X                   2         0.016180\n",
       "ACCLOC_Y                   2         0.016180\n",
       "UNIQUE_LOC                 2         0.016180"
      ]
     },
     "execution_count": 5,
     "metadata": {},
     "output_type": "execute_result"
    },
    {
     "data": {
      "image/png": "[encoded data removed]",
      "text/plain": [
       "<Figure size 432x288 with 1 Axes>"
      ]
     },
     "metadata": {
      "needs_background": "light"
     },
     "output_type": "display_data"
    }
   ],
   "source": [
    "df.null_report()"
   ]
  },
  {
   "cell_type": "markdown",
   "metadata": {},
   "source": [
    "### Features removed\n",
    "Based on result in the plot above, **'Helmet'**, **'Rollover'**, **'Fire'**, **'DUI Involved'**, **'Drugs Involved'** contain 80% or more missing data, and it is counterintuitive to impute these categorical columns, as a result, these columns would be dropped for later analysis.<br> \n",
    "\n",
    "Features that are also removed include: \n",
    "\n",
    "**'Hospital'** : describes the name of the hospital where a casualty is treated or admitted, and it is not directly relevant to the objectives. <br>\n",
    "**'Unit No'** : ID number of each unit involved in each accident. <br> \n",
    "**'Towing'** : A code defining if the unit was towing another unit <br> \n",
    "**'Postcode_x'**,**'Postcode_y'**,**'UNIQUE_LOC'** : xy coordinate and suburb information would be used instead. <br>\n",
    "**'Total Fats'**,**'Total SI'**, **'Total MI'** : we want to predict the outcome of causalty in accident, so having these features as predictors would cause collinearity issue as there is a strong relationship between number of fatality and the fatal state of causalty, number of severely injuried casualty in the accident. <br>\n",
    "**'Year'**, **'Month'**: we are not interested if there is a trend existed, each accident is independent and they are not associated with time. <br>\n",
    "**'Other Feat'** : less information can be generated from. <br>\n",
    "**'Unit Resp'**, **'Entity Code'**: the features describe who the fault in the accident belongs to, which can be unreliable and subjective decision so, it is not used in the further analysis.\n",
    "**'Veh Year'**,**'Veh Reg State'**,**'Lic State'**,**'Lic State'**, **'Licence Class'**,**'Age'**,**'Sex_y'**,\n",
    "**'LGA Name'**,**'ACCLOC_X'**, **'ACCLOC_Y'**"
   ]
  },
  {
   "cell_type": "markdown",
   "metadata": {},
   "source": [
    "### Features remained"
   ]
  },
  {
   "cell_type": "markdown",
   "metadata": {},
   "source": [
    "### Individual\n",
    "**'Casualty Type'**: A code defining the entity injured in a unit in a roadcrash-> Driver/Passenger (binary categorical)<br>\n",
    "**'Sex_x'** : gender of the entity in a casulty report male/female (binary categorical)<br> \n",
    "**'AGE'** : age of the entity in a casulty report - (continous) <br> \n",
    "**'Position In Veh'** : A description of the position of a casualty in or on a unit involved in a road crash (categorical)<br>\n",
    "**'Thrown Out'** : An indication of whether the casualty is thrown out of a unit as a result of a road crash (binary categorical)<br>\n",
    "**'Injury Extent'** : A description of the severity of the injury sustained as a result of a road crash (categorical response) <br>\n",
    "\n",
    "### Driver \n",
    "**'Seat Belt'** : An indicator of the casualty's seatbelt usage in a road crash (binary categorical response)<br>\n",
    "**'Total Cas'** : The total number of casualties in a road crash (discrete continous)<br>\n",
    "**'Unit Type'**, **'Unit Movement'**,**'Number Occupants'**: description of the unit associated with the casualty <br>\n",
    "**'Licence Type'**: description of the driver associated with the casualty <br>\n",
    "\n",
    "### Environmental Factors \n",
    "**'Stats Area'**,**'Total Units'**,**'Day'**, **'Time'** ,**'Area Speed'**,**'Position Type'**,**'Horizontal Align'**,**'Vertical Align'**,, **'Moisture Cond'**,**'Weather Cond'**, **'DayNight'**,**'Crash Type'**,**'Traffic Ctrls'** : description of the accident (categorical/ continous)"
   ]
  },
  {
   "cell_type": "code",
   "execution_count": 6,
   "metadata": {},
   "outputs": [],
   "source": [
    "columns_to_removed = ['Helmet', 'Hospital', 'Unit No', 'Towing','Postcode_x', 'Postcode_y','Direction Of Travel','Rollover', 'Fire','No Of Cas','Total Fats', 'Total SI', 'Total MI', 'Year', \n",
    "'Month', 'Other Feat', 'Unit Resp', 'Suburb','Entity Code', 'DUI Involved', 'Drugs Involved', 'UNIQUE_LOC','Veh Year','Veh Reg State','Lic State','Age','Sex_y','Licence Class',\n",
    "                     'Direction Of Travel','Road Surface','CSEF Severity','ACCLOC_X', 'ACCLOC_Y','LGA Name']"
   ]
  },
  {
   "cell_type": "code",
   "execution_count": 7,
   "metadata": {},
   "outputs": [
    {
     "name": "stdout",
     "output_type": "stream",
     "text": [
      "After removal, the data contains 12361 rows and 28 columns.\n"
     ]
    }
   ],
   "source": [
    "df.remove_cols_from(columns_to_removed)"
   ]
  },
  {
   "cell_type": "code",
   "execution_count": 8,
   "metadata": {},
   "outputs": [
    {
     "data": {
      "text/plain": [
       "Index(['REPORT_ID', 'UND_UNIT_NUMBER', 'CASUALTY_NUMBER', 'Casualty Type',\n",
       "       'Sex_x', 'AGE', 'Position In Veh', 'Thrown Out', 'Injury Extent',\n",
       "       'Seat Belt', 'Unit Type', 'Licence Type', 'Unit Movement',\n",
       "       'Number Occupants', 'Stats Area', 'Total Units', 'Total Cas', 'Day',\n",
       "       'Time', 'Area Speed', 'Position Type', 'Horizontal Align',\n",
       "       'Vertical Align', 'Moisture Cond', 'Weather Cond', 'DayNight',\n",
       "       'Crash Type', 'Traffic Ctrls'],\n",
       "      dtype='object')"
      ]
     },
     "execution_count": 8,
     "metadata": {},
     "output_type": "execute_result"
    }
   ],
   "source": [
    "df.get_columns()"
   ]
  },
  {
   "cell_type": "code",
   "execution_count": 10,
   "metadata": {},
   "outputs": [],
   "source": [
    "df.save_data_to_csv('Datas/data_preprocess.csv')"
   ]
  }
 ],
 "metadata": {
  "kernelspec": {
   "display_name": "Python 3",
   "language": "python",
   "name": "python3"
  },
  "language_info": {
   "codemirror_mode": {
    "name": "ipython",
    "version": 3
   },
   "file_extension": ".py",
   "mimetype": "text/x-python",
   "name": "python",
   "nbconvert_exporter": "python",
   "pygments_lexer": "ipython3",
   "version": "3.7.3"
  }
 },
 "nbformat": 4,
 "nbformat_minor": 4
}
