{
 "cells": [
  {
   "cell_type": "markdown",
   "metadata": {},
   "source": [
    "## 2.0 Data cleansing\n",
    "\n",
    "This notebook aims to cleanse the dataset and ensure dataset contains no missing values or unusual data entries. Some features will be recategorised into small number groups for better modelling."
   ]
  },
  {
   "cell_type": "code",
   "execution_count": 5,
   "metadata": {},
   "outputs": [],
   "source": [
    "import pandas as pd\n",
    "import numpy as np\n",
    "import seaborn as sns\n",
    "import matplotlib.pyplot as plt\n",
    "from sklearn.impute import SimpleImputer"
   ]
  },
  {
   "cell_type": "code",
   "execution_count": 6,
   "metadata": {},
   "outputs": [],
   "source": [
    "data = pd.read_csv('datas/data_preprocess.csv')"
   ]
  },
  {
   "cell_type": "markdown",
   "metadata": {},
   "source": [
    "## 2.1 Naming restructuring \n",
    "\n",
    "Naming in the dataset are quite confusing to understand. In this section, we want to perform feature renaming. We do not modify **'REPORT_ID'**, **'UND_UNIT_NUMBER'**, **'CASUALTY_NUMBER'** as they will\n",
    "not be used in modeling and they are kept in the dataset for analyst to trace back the corresponding\n",
    "observation during analysis stage."
   ]
  },
  {
   "cell_type": "code",
   "execution_count": 7,
   "metadata": {},
   "outputs": [
    {
     "data": {
      "text/plain": [
       "array(['REPORT_ID', 'UND_UNIT_NUMBER', 'CASUALTY_NUMBER', 'Casualty Type',\n",
       "       'Sex_x', 'AGE', 'Position In Veh', 'Thrown Out', 'Injury Extent',\n",
       "       'Seat Belt', 'Unit Type', 'Licence Type', 'Unit Movement',\n",
       "       'Number Occupants', 'Stats Area', 'Total Units', 'Total Cas',\n",
       "       'Day', 'Time', 'Area Speed', 'Position Type', 'Horizontal Align',\n",
       "       'Vertical Align', 'Moisture Cond', 'Weather Cond', 'DayNight',\n",
       "       'Crash Type', 'Traffic Ctrls'], dtype=object)"
      ]
     },
     "execution_count": 7,
     "metadata": {},
     "output_type": "execute_result"
    }
   ],
   "source": [
    "columns = data.columns.values\n",
    "columns"
   ]
  },
  {
   "cell_type": "code",
   "execution_count": 8,
   "metadata": {},
   "outputs": [],
   "source": [
    "data = data.rename(columns= {'Casualty Type':\"cas_type\", 'Sex_x':\"cas_gender\", 'AGE':\"cas_age\", \n",
    "                      'Position In Veh':\"cas_pos_in_veh\", 'Thrown Out':\"thrown_out\",\n",
    "       'Injury Extent':\"fatality\", 'Seat Belt':\"seat_belt\", 'Veh Reg State':\"reg_state\", \n",
    "                      'Unit Type':\"unit_type\",'Veh Year':'veh_year', \n",
    "                      'Direction Of Travel':'travel_dir', 'Sex_y':\"dri_gender\", 'Age':'dri_age', \n",
    "                      'Lic State':'lic_state','Licence Class':'lic_class', \n",
    "                      'Licence Type':'lic_type', 'Unit Movement':'unit_movement',\n",
    "                      'Number Occupants':'n_occupants', 'Stats Area':\"stat_area\", 'Suburb':'suburb',\n",
    "                      'Total Units':'total_units', 'Total Cas':'cas_total', 'Day':'day', 'Time':'time',\n",
    "                      'Area Speed':'area_speed','Position Type':'acc_pos', 'Horizontal Align':'hor_align',\n",
    "                      'Vertical Align':'ver_align','Road Surface':'road_sur', 'Moisture Cond':'moist_cond',\n",
    "                      'Weather Cond':'wea_cond', 'DayNight':'dayNight','Crash Type':'crash_type', \n",
    "                      'CSEF Severity':'csef', 'Traffic Ctrls':'traf_ctrls'})"
   ]
  },
  {
   "cell_type": "markdown",
   "metadata": {},
   "source": [
    "## 2.1 Continuous features"
   ]
  },
  {
   "cell_type": "markdown",
   "metadata": {},
   "source": [
    "### 2.1.1 Age\n",
    "\n",
    "AGE is represented as string in the dataset, therefore it is needed to transform from string to int. Noted that there are null values represented as \"XXX\", and we need to convert these strings into **np.Nan** before converting the data type. Simple Imputation would also be applied to estimate the missing age."
   ]
  },
  {
   "cell_type": "code",
   "execution_count": 9,
   "metadata": {},
   "outputs": [
    {
     "data": {
      "text/html": [
       "<div>\n",
       "<style scoped>\n",
       "    .dataframe tbody tr th:only-of-type {\n",
       "        vertical-align: middle;\n",
       "    }\n",
       "\n",
       "    .dataframe tbody tr th {\n",
       "        vertical-align: top;\n",
       "    }\n",
       "\n",
       "    .dataframe thead th {\n",
       "        text-align: right;\n",
       "    }\n",
       "</style>\n",
       "<table border=\"1\" class=\"dataframe\">\n",
       "  <thead>\n",
       "    <tr style=\"text-align: right;\">\n",
       "      <th></th>\n",
       "      <th>REPORT_ID</th>\n",
       "      <th>UND_UNIT_NUMBER</th>\n",
       "      <th>CASUALTY_NUMBER</th>\n",
       "      <th>cas_type</th>\n",
       "      <th>cas_gender</th>\n",
       "      <th>cas_age</th>\n",
       "      <th>cas_pos_in_veh</th>\n",
       "      <th>thrown_out</th>\n",
       "      <th>fatality</th>\n",
       "      <th>seat_belt</th>\n",
       "      <th>...</th>\n",
       "      <th>time</th>\n",
       "      <th>area_speed</th>\n",
       "      <th>acc_pos</th>\n",
       "      <th>hor_align</th>\n",
       "      <th>ver_align</th>\n",
       "      <th>moist_cond</th>\n",
       "      <th>wea_cond</th>\n",
       "      <th>dayNight</th>\n",
       "      <th>crash_type</th>\n",
       "      <th>traf_ctrls</th>\n",
       "    </tr>\n",
       "  </thead>\n",
       "  <tbody>\n",
       "    <tr>\n",
       "      <th>0</th>\n",
       "      <td>2017-1-15/08/2019</td>\n",
       "      <td>1</td>\n",
       "      <td>1</td>\n",
       "      <td>Driver</td>\n",
       "      <td>Female</td>\n",
       "      <td>034</td>\n",
       "      <td>Driver</td>\n",
       "      <td>Not Thrown Out</td>\n",
       "      <td>By Private</td>\n",
       "      <td>Fitted - Worn</td>\n",
       "      <td>...</td>\n",
       "      <td>05:10 pm</td>\n",
       "      <td>60</td>\n",
       "      <td>T-Junction</td>\n",
       "      <td>Straight road</td>\n",
       "      <td>Level</td>\n",
       "      <td>Dry</td>\n",
       "      <td>Not Raining</td>\n",
       "      <td>Daylight</td>\n",
       "      <td>Rear End</td>\n",
       "      <td>No Control</td>\n",
       "    </tr>\n",
       "    <tr>\n",
       "      <th>1</th>\n",
       "      <td>2017-5-15/08/2019</td>\n",
       "      <td>2</td>\n",
       "      <td>1</td>\n",
       "      <td>Driver</td>\n",
       "      <td>Female</td>\n",
       "      <td>041</td>\n",
       "      <td>Driver</td>\n",
       "      <td>Not Thrown Out</td>\n",
       "      <td>Treated at Hospital</td>\n",
       "      <td>Fitted - Worn</td>\n",
       "      <td>...</td>\n",
       "      <td>04:50 pm</td>\n",
       "      <td>60</td>\n",
       "      <td>T-Junction</td>\n",
       "      <td>Straight road</td>\n",
       "      <td>Level</td>\n",
       "      <td>Dry</td>\n",
       "      <td>Not Raining</td>\n",
       "      <td>Daylight</td>\n",
       "      <td>Right Turn</td>\n",
       "      <td>No Control</td>\n",
       "    </tr>\n",
       "    <tr>\n",
       "      <th>2</th>\n",
       "      <td>2017-9-15/08/2019</td>\n",
       "      <td>1</td>\n",
       "      <td>1</td>\n",
       "      <td>Driver</td>\n",
       "      <td>Male</td>\n",
       "      <td>XXX</td>\n",
       "      <td>Driver</td>\n",
       "      <td>Not Thrown Out</td>\n",
       "      <td>Treated at Hospital</td>\n",
       "      <td>Fitted - Worn</td>\n",
       "      <td>...</td>\n",
       "      <td>08:19 am</td>\n",
       "      <td>60</td>\n",
       "      <td>Divided Road</td>\n",
       "      <td>Straight road</td>\n",
       "      <td>Level</td>\n",
       "      <td>Dry</td>\n",
       "      <td>Not Raining</td>\n",
       "      <td>Daylight</td>\n",
       "      <td>Right Angle</td>\n",
       "      <td>No Control</td>\n",
       "    </tr>\n",
       "    <tr>\n",
       "      <th>3</th>\n",
       "      <td>2017-10-15/08/2019</td>\n",
       "      <td>1</td>\n",
       "      <td>1</td>\n",
       "      <td>Driver</td>\n",
       "      <td>Male</td>\n",
       "      <td>019</td>\n",
       "      <td>Driver</td>\n",
       "      <td>Not Thrown Out</td>\n",
       "      <td>Treated at Hospital</td>\n",
       "      <td>Fitted - Worn</td>\n",
       "      <td>...</td>\n",
       "      <td>08:30 am</td>\n",
       "      <td>60</td>\n",
       "      <td>Freeway</td>\n",
       "      <td>CURVED, VIEW OPEN</td>\n",
       "      <td>Level</td>\n",
       "      <td>Dry</td>\n",
       "      <td>Not Raining</td>\n",
       "      <td>Daylight</td>\n",
       "      <td>Head On</td>\n",
       "      <td>No Control</td>\n",
       "    </tr>\n",
       "    <tr>\n",
       "      <th>4</th>\n",
       "      <td>2017-10-15/08/2019</td>\n",
       "      <td>2</td>\n",
       "      <td>1</td>\n",
       "      <td>Driver</td>\n",
       "      <td>Male</td>\n",
       "      <td>048</td>\n",
       "      <td>Driver</td>\n",
       "      <td>Not Thrown Out</td>\n",
       "      <td>By Private</td>\n",
       "      <td>Fitted - Worn</td>\n",
       "      <td>...</td>\n",
       "      <td>08:30 am</td>\n",
       "      <td>60</td>\n",
       "      <td>Freeway</td>\n",
       "      <td>CURVED, VIEW OPEN</td>\n",
       "      <td>Level</td>\n",
       "      <td>Dry</td>\n",
       "      <td>Not Raining</td>\n",
       "      <td>Daylight</td>\n",
       "      <td>Head On</td>\n",
       "      <td>No Control</td>\n",
       "    </tr>\n",
       "  </tbody>\n",
       "</table>\n",
       "<p>5 rows × 28 columns</p>\n",
       "</div>"
      ],
      "text/plain": [
       "            REPORT_ID  UND_UNIT_NUMBER  CASUALTY_NUMBER cas_type cas_gender  \\\n",
       "0   2017-1-15/08/2019                1                1   Driver     Female   \n",
       "1   2017-5-15/08/2019                2                1   Driver     Female   \n",
       "2   2017-9-15/08/2019                1                1   Driver       Male   \n",
       "3  2017-10-15/08/2019                1                1   Driver       Male   \n",
       "4  2017-10-15/08/2019                2                1   Driver       Male   \n",
       "\n",
       "  cas_age cas_pos_in_veh      thrown_out             fatality      seat_belt  \\\n",
       "0     034         Driver  Not Thrown Out           By Private  Fitted - Worn   \n",
       "1     041         Driver  Not Thrown Out  Treated at Hospital  Fitted - Worn   \n",
       "2     XXX         Driver  Not Thrown Out  Treated at Hospital  Fitted - Worn   \n",
       "3     019         Driver  Not Thrown Out  Treated at Hospital  Fitted - Worn   \n",
       "4     048         Driver  Not Thrown Out           By Private  Fitted - Worn   \n",
       "\n",
       "   ...      time area_speed       acc_pos          hor_align ver_align  \\\n",
       "0  ...  05:10 pm         60    T-Junction      Straight road     Level   \n",
       "1  ...  04:50 pm         60    T-Junction      Straight road     Level   \n",
       "2  ...  08:19 am         60  Divided Road      Straight road     Level   \n",
       "3  ...  08:30 am         60       Freeway  CURVED, VIEW OPEN     Level   \n",
       "4  ...  08:30 am         60       Freeway  CURVED, VIEW OPEN     Level   \n",
       "\n",
       "   moist_cond     wea_cond  dayNight   crash_type  traf_ctrls  \n",
       "0         Dry  Not Raining  Daylight     Rear End  No Control  \n",
       "1         Dry  Not Raining  Daylight   Right Turn  No Control  \n",
       "2         Dry  Not Raining  Daylight  Right Angle  No Control  \n",
       "3         Dry  Not Raining  Daylight      Head On  No Control  \n",
       "4         Dry  Not Raining  Daylight      Head On  No Control  \n",
       "\n",
       "[5 rows x 28 columns]"
      ]
     },
     "execution_count": 9,
     "metadata": {},
     "output_type": "execute_result"
    }
   ],
   "source": [
    "data.head()"
   ]
  },
  {
   "cell_type": "code",
   "execution_count": 10,
   "metadata": {},
   "outputs": [],
   "source": [
    "data.loc[data['cas_age']=='XXX','cas_age']=None\n",
    "data['cas_age']=pd.to_numeric(data['cas_age'])"
   ]
  },
  {
   "cell_type": "code",
   "execution_count": 11,
   "metadata": {},
   "outputs": [
    {
     "data": {
      "image/png": "[encoded data removed]",
      "text/plain": [
       "<Figure size 432x288 with 1 Axes>"
      ]
     },
     "metadata": {
      "needs_background": "light"
     },
     "output_type": "display_data"
    }
   ],
   "source": [
    "sns.boxplot(data['cas_age'])\n",
    "plt.title('Casualty Age')\n",
    "plt.show()"
   ]
  },
  {
   "cell_type": "markdown",
   "metadata": {},
   "source": [
    "**Comment**<br>\n",
    "It is reasonable to use mean for replacing missing casualty age. Although there are some outliers in driver age, mean of driver age would not be affected too much by these outliers as their values are very close to the the range. Therefore, Simple imputation with mean would be performed for both feature columns."
   ]
  },
  {
   "cell_type": "code",
   "execution_count": 12,
   "metadata": {},
   "outputs": [],
   "source": [
    "imp_cas_age = SimpleImputer(missing_values=np.nan, strategy='mean')\n",
    "imp_cas_age.fit(data[['cas_age']])\n",
    "data['cas_age']=imp_cas_age.transform(data[['cas_age']])"
   ]
  },
  {
   "cell_type": "markdown",
   "metadata": {},
   "source": [
    "## 2.2 Categorical features\n",
    "\n",
    "Sample sizes are small in some categories and these small groups will be combined in a single group"
   ]
  },
  {
   "cell_type": "code",
   "execution_count": 13,
   "metadata": {},
   "outputs": [],
   "source": [
    "data.loc[data.cas_type=='Pedestrian','n_occupants']=1"
   ]
  },
  {
   "cell_type": "code",
   "execution_count": 14,
   "metadata": {},
   "outputs": [],
   "source": [
    "data.loc[data.cas_type=='Rider','lic_type']='NoLicence'\n",
    "data.loc[data.cas_type=='Pedestrian','lic_type']='NoLicence'\n",
    "data.loc[data.cas_type=='Passenger','lic_type']='NoLicence'"
   ]
  },
  {
   "cell_type": "code",
   "execution_count": 15,
   "metadata": {},
   "outputs": [],
   "source": [
    "data.loc[data.cas_type=='Rider','seat_belt']='NoSeatBelt'\n",
    "data.loc[data.cas_type=='Pedestrian','seat_belt']='NoSeatBelt'\n",
    "data.loc[data.cas_type=='Passenger','seat_belt']='NoSeatBelt'"
   ]
  },
  {
   "cell_type": "code",
   "execution_count": 16,
   "metadata": {},
   "outputs": [
    {
     "data": {
      "text/plain": [
       "array(['Pedestrian', 'Rider'], dtype=object)"
      ]
     },
     "execution_count": 16,
     "metadata": {},
     "output_type": "execute_result"
    }
   ],
   "source": [
    "data.loc[data['thrown_out'].isnull(),].cas_type.unique()"
   ]
  },
  {
   "cell_type": "code",
   "execution_count": 17,
   "metadata": {},
   "outputs": [],
   "source": [
    "data.loc[data.cas_type=='Rider','thrown_out']='NotApplicable'\n",
    "data.loc[data.cas_type=='Pedestrian','thrown_out']='NotApplicable'"
   ]
  },
  {
   "cell_type": "code",
   "execution_count": 18,
   "metadata": {},
   "outputs": [
    {
     "data": {
      "text/plain": [
       "array(['Rider', 'Pedestrian'], dtype=object)"
      ]
     },
     "execution_count": 18,
     "metadata": {},
     "output_type": "execute_result"
    }
   ],
   "source": [
    "data.loc[data.cas_pos_in_veh.isnull(),].cas_type.unique()"
   ]
  },
  {
   "cell_type": "code",
   "execution_count": 19,
   "metadata": {},
   "outputs": [],
   "source": [
    "data.loc[data.cas_type=='Pedestrian','cas_pos_in_veh']='NotApplicable'\n",
    "data.loc[data.cas_type=='Rider','cas_pos_in_veh']='NotApplicable'"
   ]
  },
  {
   "cell_type": "code",
   "execution_count": 20,
   "metadata": {},
   "outputs": [
    {
     "data": {
      "text/plain": [
       "REPORT_ID          0\n",
       "UND_UNIT_NUMBER    0\n",
       "CASUALTY_NUMBER    0\n",
       "cas_type           0\n",
       "cas_gender         0\n",
       "cas_age            0\n",
       "cas_pos_in_veh     0\n",
       "thrown_out         0\n",
       "fatality           0\n",
       "seat_belt          0\n",
       "unit_type          0\n",
       "lic_type           0\n",
       "unit_movement      0\n",
       "n_occupants        0\n",
       "stat_area          0\n",
       "total_units        0\n",
       "cas_total          0\n",
       "day                0\n",
       "time               0\n",
       "area_speed         0\n",
       "acc_pos            0\n",
       "hor_align          0\n",
       "ver_align          0\n",
       "moist_cond         0\n",
       "wea_cond           0\n",
       "dayNight           0\n",
       "crash_type         0\n",
       "traf_ctrls         0\n",
       "dtype: int64"
      ]
     },
     "execution_count": 20,
     "metadata": {},
     "output_type": "execute_result"
    }
   ],
   "source": [
    "data.isnull().sum()"
   ]
  },
  {
   "cell_type": "markdown",
   "metadata": {},
   "source": [
    "**Comment** <br>\n",
    "The dataset contains no missing values anymore. "
   ]
  },
  {
   "cell_type": "code",
   "execution_count": 21,
   "metadata": {},
   "outputs": [],
   "source": [
    "data.loc[data.fatality!='Fatal','fatality']='NotFatal'"
   ]
  },
  {
   "cell_type": "code",
   "execution_count": 22,
   "metadata": {},
   "outputs": [],
   "source": [
    "data.loc[data.seat_belt=='Fitted - Worn','seat_belt']='Worn'\n",
    "data.loc[data.seat_belt=='Fitted - Unknown if Worn','seat_belt']='Unknown'\n",
    "data.loc[data.seat_belt=='Fitted - Not Worn','seat_belt']='NotWorn'\n",
    "data.loc[data.seat_belt=='Not Fitted','seat_belt']='NotWorn'\n",
    "data.loc[data.seat_belt=='NoSeatBelt','seat_belt']='NotWorn'"
   ]
  },
  {
   "cell_type": "code",
   "execution_count": 23,
   "metadata": {},
   "outputs": [
    {
     "data": {
      "text/plain": [
       "Not Divided            3969\n",
       "T-Junction             2921\n",
       "Cross Road             2910\n",
       "Divided Road           2101\n",
       "Freeway                 184\n",
       "Multiple                 86\n",
       "Pedestrian Crossing      85\n",
       "Rail Crossing            24\n",
       "One Way                  20\n",
       "Interchange              13\n",
       "Other                    13\n",
       "Rail Xing                12\n",
       "Ramp On                  10\n",
       "Ramp Off                  8\n",
       "Y-Junction                3\n",
       "Crossover                 2\n",
       "Name: acc_pos, dtype: int64"
      ]
     },
     "execution_count": 23,
     "metadata": {},
     "output_type": "execute_result"
    }
   ],
   "source": [
    "data.acc_pos.value_counts()"
   ]
  },
  {
   "cell_type": "markdown",
   "metadata": {},
   "source": [
    "Groups of Rail Crossing,One Way, Interchange,Rail Xing,Ramp On,Ramp Off,Y-Junction,Crossover have very limited sample size compared to other groups, so these groups would be combined with Other."
   ]
  },
  {
   "cell_type": "code",
   "execution_count": 24,
   "metadata": {},
   "outputs": [],
   "source": [
    "data.loc[data.acc_pos=='Rail Crossing','acc_pos']='Other'\n",
    "data.loc[data.acc_pos=='One Way','acc_pos']='Other'\n",
    "data.loc[data.acc_pos=='Interchange','acc_pos']='Other'\n",
    "data.loc[data.acc_pos=='Rail Xing','acc_pos']='Other'\n",
    "data.loc[data.acc_pos=='Ramp On','acc_pos']='Other'\n",
    "data.loc[data.acc_pos=='Ramp Off','acc_pos']='Other'\n",
    "data.loc[data.acc_pos=='Y-Junction','acc_pos']='Other'\n",
    "data.loc[data.acc_pos=='Crossover','acc_pos']='Other'"
   ]
  },
  {
   "cell_type": "code",
   "execution_count": 25,
   "metadata": {},
   "outputs": [
    {
     "data": {
      "text/plain": [
       "No Control                   7956\n",
       "Traffic Signals              2305\n",
       "Give Way Sign                1055\n",
       "Stop Sign                     587\n",
       "Roundabout                    438\n",
       "Rail Xing - Boom               10\n",
       "Rail Xing-Traffic Signals       8\n",
       "Rail Xing - Flashing            1\n",
       "Other                           1\n",
       "Name: traf_ctrls, dtype: int64"
      ]
     },
     "execution_count": 25,
     "metadata": {},
     "output_type": "execute_result"
    }
   ],
   "source": [
    "data.traf_ctrls.value_counts()"
   ]
  },
  {
   "cell_type": "code",
   "execution_count": 26,
   "metadata": {},
   "outputs": [],
   "source": [
    "data.loc[data.traf_ctrls=='Rail Xing - Boom','traf_ctrls']='Other'\n",
    "data.loc[data.traf_ctrls=='Rail Xing-Traffic Signals','traf_ctrls']='Other'\n",
    "data.loc[data.traf_ctrls=='Rail Xing - Flashing','traf_ctrls']='Other'"
   ]
  },
  {
   "cell_type": "code",
   "execution_count": 27,
   "metadata": {},
   "outputs": [
    {
     "data": {
      "text/plain": [
       "Straight Ahead                            7649\n",
       "Stopped on Carriageway                    2009\n",
       "Right Turn                                1087\n",
       "Swerving                                   307\n",
       "Crossing without Control                   276\n",
       "Left Turn                                  227\n",
       "Crossing with Traffic Signals              105\n",
       "U Turn                                     103\n",
       "Leaving Private Driveway                   102\n",
       "Overtaking - on Right                       90\n",
       "Walking on Road                             81\n",
       "Entering Private Driveway                   74\n",
       "Walking on Footpath                         68\n",
       "Parked                                      51\n",
       "Overtaking - on Left                        26\n",
       "Pushing or Working on Vehicle               17\n",
       "On Pedestrian Crossing                      17\n",
       "Alighted from Parked Vehicle                16\n",
       "UnParking - Parallel                        11\n",
       "Other (e.g. Police on Traffic Control)       7\n",
       "Reversing                                    7\n",
       "Parking - Parallel                           7\n",
       "Unparking -Angle                             6\n",
       "Walked from between Parked Vehicles          6\n",
       "Within 30m of Pedestrian Crossing            3\n",
       "Walking on Road - Against the Traffic        3\n",
       "Other                                        3\n",
       "Playing on Roadway                           2\n",
       "Parking - Angle                              1\n",
       "Name: unit_movement, dtype: int64"
      ]
     },
     "execution_count": 27,
     "metadata": {},
     "output_type": "execute_result"
    }
   ],
   "source": [
    "data.unit_movement.value_counts()"
   ]
  },
  {
   "cell_type": "code",
   "execution_count": 28,
   "metadata": {},
   "outputs": [
    {
     "data": {
      "text/plain": [
       "Crossing without Control                  276\n",
       "Crossing with Traffic Signals             105\n",
       "Walking on Road                            81\n",
       "Walking on Footpath                        68\n",
       "On Pedestrian Crossing                     17\n",
       "Pushing or Working on Vehicle              17\n",
       "Alighted from Parked Vehicle               16\n",
       "Other (e.g. Police on Traffic Control)      7\n",
       "Walked from between Parked Vehicles         6\n",
       "Within 30m of Pedestrian Crossing           3\n",
       "Walking on Road - Against the Traffic       3\n",
       "Playing on Roadway                          2\n",
       "Name: unit_movement, dtype: int64"
      ]
     },
     "execution_count": 28,
     "metadata": {},
     "output_type": "execute_result"
    }
   ],
   "source": [
    "data.loc[data.cas_type=='Pedestrian','unit_movement'].value_counts()"
   ]
  },
  {
   "cell_type": "code",
   "execution_count": 29,
   "metadata": {},
   "outputs": [],
   "source": [
    "data.loc[data.unit_movement=='Walked from between Parked Vehicles','unit_movement']='OtherPedest'\n",
    "data.loc[data.unit_movement=='Within 30m of Pedestrian Crossing','unit_movement']='OtherPedest'\n",
    "data.loc[data.unit_movement=='Walking on Road - Against the Traffic','unit_movement']='OtherPedest'\n",
    "data.loc[data.unit_movement=='Playing on Roadway','unit_movement']='OtherPedest'\n",
    "data.loc[data.unit_movement=='Other (e.g. Police on Traffic Control)','unit_movement']='OtherPedest'"
   ]
  },
  {
   "cell_type": "markdown",
   "metadata": {},
   "source": [
    "### 2.2.1 Vehicle type"
   ]
  },
  {
   "cell_type": "markdown",
   "metadata": {},
   "source": [
    "Vehicle would be reclassified into small number of categories due to small samples. <br>\n",
    "The new groups are as followed: <br>\n",
    "\n",
    "**Small**\n",
    "Motor Cars - Sedan \n",
    "Motor Cars - Tourer\n",
    "Small Wheel Vehicle User\n",
    "Taxi Cab\n",
    "\n",
    "\n",
    "**PCycling**\n",
    "Power Asst. Bicycle\n",
    "Scooter\n",
    "Pedal Cycle\n",
    "\n",
    "**Medium**\n",
    "Light Truck LT 4.5T\n",
    "OMNIBUS\n",
    "Forward Control Passenger Van\n",
    "Panel Van\n",
    "Station Wagon\n",
    "\n",
    "\n",
    "**Large**\n",
    "BDOUBLE - ROAD TRAIN\n",
    "SEMI TRAILER\n",
    "RIGID TRUCK LGE GE 4.5T\n",
    "Tram\n",
    "\n",
    "\n",
    "**Wheelchair**\n",
    "Wheelchair / Elec. Wheelchair \n",
    "Motorised Wheelchair/Gopher\n",
    "\n",
    "\n",
    "**MCycling**\n",
    "Motor Vehicle - Type Unknown\n",
    "Motor Cycle"
   ]
  },
  {
   "cell_type": "code",
   "execution_count": 30,
   "metadata": {},
   "outputs": [
    {
     "data": {
      "text/plain": [
       "Motor Cars - Sedan                6302\n",
       "Station Wagon                     2241\n",
       "Pedal Cycle                        976\n",
       "Motor Cycle                        943\n",
       "Utility                            774\n",
       "Pedestrian on Road                 500\n",
       "Panel Van                          126\n",
       "Scooter                             90\n",
       "Pedestrian on Footpath/Carpark      72\n",
       "RIGID TRUCK LGE GE 4.5T             50\n",
       "SEMI TRAILER                        45\n",
       "Taxi Cab                            41\n",
       "Motor Vehicle - Type Unknown        39\n",
       "Forward Control Passenger Van       37\n",
       "OMNIBUS                             27\n",
       "Other Defined Special Vehicle       24\n",
       "Light Truck LT 4.5T                 18\n",
       "Small Wheel Vehicle User            13\n",
       "Motorised Wheelchair/Gopher         13\n",
       "Motor Cars - Tourer                 11\n",
       "Power Asst. Bicycle                  8\n",
       "BDOUBLE - ROAD TRAIN                 6\n",
       "Wheelchair / Elec. Wheelchair        3\n",
       "Tram                                 2\n",
       "Name: unit_type, dtype: int64"
      ]
     },
     "execution_count": 30,
     "metadata": {},
     "output_type": "execute_result"
    }
   ],
   "source": [
    "data['unit_type'].value_counts()"
   ]
  },
  {
   "cell_type": "code",
   "execution_count": 31,
   "metadata": {},
   "outputs": [],
   "source": [
    "data.loc[data['unit_type']=='Motor Cars - Sedan','unit_type']='Small'\n",
    "data.loc[data['unit_type']=='Motor Cars - Tourer','unit_type']='Small'\n",
    "data.loc[data['unit_type']=='Small Wheel Vehicle User','unit_type']='Small'\n",
    "data.loc[data['unit_type']=='Taxi Cab','unit_type']='Small'\n",
    "\n",
    "data.loc[data['unit_type']=='Power Asst. Bicycle','unit_type']='PCycling'\n",
    "data.loc[data['unit_type']=='Scooter','unit_type']='PCycling'\n",
    "data.loc[data['unit_type']=='Pedal Cycle','unit_type']='PCycling'\n",
    "\n",
    "data.loc[data['unit_type']=='Light Truck LT 4.5T','unit_type']='Medium'\n",
    "data.loc[data['unit_type']=='OMNIBUS','unit_type']='Medium'\n",
    "data.loc[data['unit_type']=='Forward Control Passenger Van','unit_type']='Medium'\n",
    "data.loc[data['unit_type']=='Panel Van','unit_type']='Medium'\n",
    "data.loc[data['unit_type']=='Station Wagon','unit_type']='Medium'\n",
    "\n",
    "data.loc[data['unit_type']=='BDOUBLE - ROAD TRAIN','unit_type']='Large'\n",
    "data.loc[data['unit_type']=='SEMI TRAILER','unit_type']='Large'\n",
    "data.loc[data['unit_type']=='RIGID TRUCK LGE GE 4.5T','unit_type']='Large'\n",
    "data.loc[data['unit_type']=='Tram','unit_type']='Large'\n",
    "\n",
    "data.loc[data['unit_type']=='Motor Vehicle - Type Unknown','unit_type']='MCycling'\n",
    "data.loc[data['unit_type']=='Motor Cycle','unit_type']='MCycling'\n",
    "\n",
    "data.loc[data['unit_type']=='Wheelchair / Elec. Wheelchair','unit_type']='Wheelchair'\n",
    "data.loc[data['unit_type']=='Motorised Wheelchair/Gopher','unit_type']='Wheelchair'\n"
   ]
  },
  {
   "cell_type": "code",
   "execution_count": 32,
   "metadata": {},
   "outputs": [
    {
     "data": {
      "text/plain": [
       "Small                             6367\n",
       "Medium                            2449\n",
       "PCycling                          1074\n",
       "MCycling                           982\n",
       "Utility                            774\n",
       "Pedestrian on Road                 500\n",
       "Large                              103\n",
       "Pedestrian on Footpath/Carpark      72\n",
       "Other Defined Special Vehicle       24\n",
       "Wheelchair                          16\n",
       "Name: unit_type, dtype: int64"
      ]
     },
     "execution_count": 32,
     "metadata": {},
     "output_type": "execute_result"
    }
   ],
   "source": [
    "data['unit_type'].value_counts()"
   ]
  },
  {
   "cell_type": "code",
   "execution_count": 33,
   "metadata": {},
   "outputs": [
    {
     "data": {
      "text/plain": [
       "Driver                                  7345\n",
       "NotApplicable                           2589\n",
       "Front Seat Left Passenger               1481\n",
       "Rear Seat Left Passenger                 392\n",
       "Rear Seat Right Passenger                336\n",
       "Rear Seat Middle Passenger               123\n",
       "Passenger of Motorcycle                   28\n",
       "Passenger on Multi-Passenger Vehicle      23\n",
       "Unknown                                   21\n",
       "Other                                      9\n",
       "Front Seat Middle Passenger                8\n",
       "Back of Enclosed Van                       3\n",
       "Occupant of a Unit Being Towed             2\n",
       "Back Open Utility or Truck                 1\n",
       "Name: cas_pos_in_veh, dtype: int64"
      ]
     },
     "execution_count": 33,
     "metadata": {},
     "output_type": "execute_result"
    }
   ],
   "source": [
    "data.cas_pos_in_veh.value_counts()"
   ]
  },
  {
   "cell_type": "code",
   "execution_count": 34,
   "metadata": {},
   "outputs": [],
   "source": [
    "data.loc[data.cas_pos_in_veh=='Unknown','cas_pos_in_veh']='Other'\n",
    "data.loc[data.cas_pos_in_veh=='Back of Enclosed Van ','cas_pos_in_veh']='Other'\n",
    "data.loc[data.cas_pos_in_veh=='Occupant of a Unit Being Towed','cas_pos_in_veh']='Other'\n",
    "data.loc[data.cas_pos_in_veh=='Back Open Utility or Truck','cas_pos_in_veh']='Other'"
   ]
  },
  {
   "cell_type": "markdown",
   "metadata": {},
   "source": [
    "### 2.2.2 Time\n",
    "\n",
    "Time will be divided into two groups - \"peak\" or \"off-peak\" for efficiently modeling. Time in between 8:00am and 9:30am or in between 4:00pm and 6:00pm would be classified as \"peak\", and \"off-peak\" otherwise. "
   ]
  },
  {
   "cell_type": "code",
   "execution_count": 35,
   "metadata": {},
   "outputs": [
    {
     "data": {
      "text/plain": [
       "array(['05:10 pm', '04:50 pm', '08:19 am', ..., '09:31 am', '12:02 am',\n",
       "       '12:03 pm'], dtype=object)"
      ]
     },
     "execution_count": 35,
     "metadata": {},
     "output_type": "execute_result"
    }
   ],
   "source": [
    "data.time.unique()"
   ]
  },
  {
   "cell_type": "code",
   "execution_count": 36,
   "metadata": {},
   "outputs": [],
   "source": [
    "def time(series):\n",
    "    l = []\n",
    "    for row in series:\n",
    "        items = row.split(\" \")\n",
    "        tmp = items[0].split(':')\n",
    "        if items[1]=='am':\n",
    "            tmp2 = int(tmp[0])*100+int(tmp[1])\n",
    "            if tmp2>=800 and tmp2 <=930:\n",
    "                l.append('peak')\n",
    "            else:\n",
    "                l.append('off-peak')\n",
    "        else:\n",
    "            tmp2 = int(tmp[0])*100+int(tmp[1])\n",
    "            if tmp2>=400 and tmp2 <=600:\n",
    "                l.append('peak')\n",
    "            else:\n",
    "                l.append('off-peak')\n",
    "            \n",
    "    return pd.Series(l)"
   ]
  },
  {
   "cell_type": "code",
   "execution_count": 37,
   "metadata": {},
   "outputs": [],
   "source": [
    "data.time = time(data.time)"
   ]
  },
  {
   "cell_type": "code",
   "execution_count": 38,
   "metadata": {},
   "outputs": [],
   "source": [
    "data.to_csv('datas/data_cleaned.csv',index=False)"
   ]
  }
 ],
 "metadata": {
  "kernelspec": {
   "display_name": "Python 3",
   "language": "python",
   "name": "python3"
  },
  "language_info": {
   "codemirror_mode": {
    "name": "ipython",
    "version": 3
   },
   "file_extension": ".py",
   "mimetype": "text/x-python",
   "name": "python",
   "nbconvert_exporter": "python",
   "pygments_lexer": "ipython3",
   "version": "3.7.3"
  }
 },
 "nbformat": 4,
 "nbformat_minor": 2
}
